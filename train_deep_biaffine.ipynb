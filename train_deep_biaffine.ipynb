{
 "cells": [
  {
   "cell_type": "code",
   "execution_count": null,
   "metadata": {},
   "outputs": [],
   "source": [
    "%cd deep_biaffine\n",
    "!rm -rf checkpoints, img, log, vocab\n",
    "!mkdir checkpoints, img, log, vocab\n",
    "%cd img\n",
    "!mkdir data\n",
    "%cd .."
   ]
  },
  {
   "cell_type": "code",
   "execution_count": null,
   "metadata": {},
   "outputs": [],
   "source": [
    "!python preprocess.py --data data --out vocab"
   ]
  },
  {
   "cell_type": "code",
   "execution_count": null,
   "metadata": {},
   "outputs": [],
   "source": [
    "!python main.py train --data data --epochs 50 --disable-tags --disable-words"
   ]
  },
  {
   "cell_type": "code",
   "execution_count": null,
   "metadata": {},
   "outputs": [],
   "source": [
    "# This might not work on Colab.\n",
    "# So, you might have to download 'model.pt' and run this locally instead.\n",
    "!python main.py predict --data data"
   ]
  }
 ],
 "metadata": {
  "kernelspec": {
   "display_name": "Python 3.9.12 ('base')",
   "language": "python",
   "name": "python3"
  },
  "language_info": {
   "name": "python",
   "version": "3.9.12"
  },
  "orig_nbformat": 4,
  "vscode": {
   "interpreter": {
    "hash": "65295626ec25ab7dd92e30a5a7d75dcb6dd4530d4aa64ca5930a40f5e6a570d7"
   }
  }
 },
 "nbformat": 4,
 "nbformat_minor": 2
}
